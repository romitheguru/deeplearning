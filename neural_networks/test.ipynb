{
 "cells": [
  {
   "cell_type": "markdown",
   "metadata": {},
   "source": [
    "# Imports"
   ]
  },
  {
   "cell_type": "code",
   "execution_count": 1,
   "metadata": {},
   "outputs": [],
   "source": [
    "import torch\n",
    "import torch.nn as nn\n",
    "import torch.optim as optim\n",
    "from torch.utils.data import DataLoader, TensorDataset\n",
    "from torchvision import datasets, transforms"
   ]
  },
  {
   "cell_type": "code",
   "execution_count": 2,
   "metadata": {},
   "outputs": [],
   "source": [
    "from mlp import NeuralNetwork"
   ]
  },
  {
   "cell_type": "markdown",
   "metadata": {},
   "source": [
    "# Load Data"
   ]
  },
  {
   "cell_type": "markdown",
   "metadata": {},
   "source": [
    "Let's compare the implementation on MNIST data"
   ]
  },
  {
   "cell_type": "code",
   "execution_count": 3,
   "metadata": {},
   "outputs": [],
   "source": [
    "# Load and preprocess MNIST dataset\n",
    "transform = transforms.Compose([\n",
    "    transforms.ToTensor(),\n",
    "    transforms.Normalize((0.1307,), (0.3081,))\n",
    "])"
   ]
  },
  {
   "cell_type": "code",
   "execution_count": 4,
   "metadata": {},
   "outputs": [],
   "source": [
    "mnist_train = datasets.MNIST('./data', train=True, download=True, transform=transform)\n",
    "mnist_test = datasets.MNIST('./data', train=False, transform=transform)"
   ]
  },
  {
   "cell_type": "code",
   "execution_count": 5,
   "metadata": {},
   "outputs": [],
   "source": [
    "# Prepare data for NumPy implementation\n",
    "X_train = mnist_train.data.numpy().reshape(-1, 784) / 255.0\n",
    "y_train = mnist_train.targets.numpy()\n",
    "\n",
    "X_test = mnist_test.data.numpy().reshape(-1, 784) / 255.0\n",
    "y_test = mnist_test.targets.numpy()"
   ]
  },
  {
   "cell_type": "markdown",
   "metadata": {},
   "source": [
    "# Train Models"
   ]
  },
  {
   "cell_type": "markdown",
   "metadata": {},
   "source": [
    "## From Scratch Model"
   ]
  },
  {
   "cell_type": "code",
   "execution_count": 7,
   "metadata": {},
   "outputs": [
    {
     "name": "stdout",
     "output_type": "stream",
     "text": [
      "Epoch 1/5, Accuracy: 0.9630\n",
      "Epoch 2/5, Accuracy: 0.9737\n",
      "Epoch 3/5, Accuracy: 0.9834\n",
      "Epoch 4/5, Accuracy: 0.9853\n",
      "Epoch 5/5, Accuracy: 0.9895\n",
      "CPU times: user 1min 21s, sys: 2.47 s, total: 1min 24s\n",
      "Wall time: 11.5 s\n"
     ]
    }
   ],
   "source": [
    "%%time\n",
    "# Training my implementation\n",
    "np_model = NeuralNetwork([784, 128, 64, 10])\n",
    "np_model.train(X_train, y_train, epochs=5, batch_size=32, learning_rate=0.1)"
   ]
  },
  {
   "cell_type": "markdown",
   "metadata": {},
   "source": [
    "## PyTorch"
   ]
  },
  {
   "cell_type": "code",
   "execution_count": 8,
   "metadata": {},
   "outputs": [],
   "source": [
    "class PyTorchNN(nn.Module):\n",
    "    def __init__(self, layers):\n",
    "        super(PyTorchNN, self).__init__()\n",
    "        self.layers = nn.ModuleList()\n",
    "\n",
    "        for i in range(len(layers) - 1):\n",
    "            self.layers.append(nn.Linear(layers[i], layers[i + 1]))\n",
    "            if i < len(layers) - 2:\n",
    "                self.layers.append(nn.ReLU())\n",
    "\n",
    "    def forward(self, x):\n",
    "        for layer in self.layers:\n",
    "            x = layer(x)\n",
    "        return x"
   ]
  },
  {
   "cell_type": "code",
   "execution_count": 9,
   "metadata": {},
   "outputs": [
    {
     "name": "stdout",
     "output_type": "stream",
     "text": [
      "Epoch 1/5, Accuracy: 0.9531\n",
      "Epoch 2/5, Accuracy: 0.9677\n",
      "Epoch 3/5, Accuracy: 0.9710\n",
      "Epoch 4/5, Accuracy: 0.9743\n",
      "Epoch 5/5, Accuracy: 0.9751\n",
      "CPU times: user 12.5 s, sys: 1.25 s, total: 13.7 s\n",
      "Wall time: 3.63 s\n"
     ]
    }
   ],
   "source": [
    "%%time\n",
    "# create the model with same layers\n",
    "torch_model = PyTorchNN([784, 128, 64, 10])\n",
    "criterion = nn.CrossEntropyLoss()\n",
    "optimizer = optim.SGD(torch_model.parameters(), lr=0.1)\n",
    "\n",
    "train_loader = DataLoader(\n",
    "    TensorDataset(torch.FloatTensor(X_train), torch.LongTensor(y_train)),\n",
    "    batch_size=32,\n",
    "    shuffle=True,\n",
    ")\n",
    "\n",
    "for epoch in range(5):\n",
    "    running_loss = 0.0\n",
    "    for i, (inputs, labels) in enumerate(train_loader):\n",
    "        optimizer.zero_grad()\n",
    "        outputs = torch_model(inputs)\n",
    "        loss = criterion(outputs, labels)\n",
    "        loss.backward()\n",
    "        optimizer.step()\n",
    "\n",
    "        running_loss += loss.item()\n",
    "\n",
    "    # Calculate accuracy\n",
    "    with torch.no_grad():\n",
    "        outputs = torch_model(torch.FloatTensor(X_test))\n",
    "        _, predicted = torch.max(outputs.data, 1)\n",
    "        accuracy = (predicted == torch.LongTensor(y_test)).sum().item() / len(y_test)\n",
    "        print(f\"Epoch {epoch+1}/5, Accuracy: {accuracy:.4f}\")"
   ]
  },
  {
   "cell_type": "code",
   "execution_count": null,
   "metadata": {},
   "outputs": [],
   "source": []
  }
 ],
 "metadata": {
  "kernelspec": {
   "display_name": "deeplearning",
   "language": "python",
   "name": "python3"
  },
  "language_info": {
   "codemirror_mode": {
    "name": "ipython",
    "version": 3
   },
   "file_extension": ".py",
   "mimetype": "text/x-python",
   "name": "python",
   "nbconvert_exporter": "python",
   "pygments_lexer": "ipython3",
   "version": "3.11.10"
  }
 },
 "nbformat": 4,
 "nbformat_minor": 2
}
